{
 "cells": [
  {
   "cell_type": "code",
   "execution_count": 1,
   "metadata": {},
   "outputs": [
    {
     "data": {
      "text/html": [
       "<style> div#notebook-container { width: 80%; }  </style> "
      ],
      "text/plain": [
       "<IPython.core.display.HTML object>"
      ]
     },
     "metadata": {
      "bento_obj_id": "139870073551376"
     },
     "output_type": "display_data"
    }
   ],
   "source": [
    "# Increase discplay size of jupyter notebook cells\n",
    "from IPython.display import display, HTML\n",
    "display(HTML(\"<style> div#notebook-container { width: 80%; }  </style> \"))"
   ]
  },
  {
   "cell_type": "code",
   "execution_count": 2,
   "metadata": {
    "collapsed": true
   },
   "outputs": [],
   "source": [
    "import pandas as pd\n",
    "import numpy as np\n",
    "import statsmodels.api as sm"
   ]
  },
  {
   "cell_type": "code",
   "execution_count": 3,
   "metadata": {
    "collapsed": true
   },
   "outputs": [],
   "source": [
    "# Download external data\n",
    "\n",
    "df = pd.read_csv('https://raw.githubusercontent.com/dimitris1ps/data/master/etic_refined.csv')"
   ]
  },
  {
   "cell_type": "markdown",
   "metadata": {},
   "source": [
    "<b>Difference in difference (DID)</b> is a statistical technique to measure the effect of a treatment on a `treatment group` versus a `control group`. <br>\n",
    "\n",
    "Usualy, these two groups have differences between them, even prior to the intervention date. We can also account for Confounding Variables. <br>\n",
    "\n",
    "Example of when `DID` can be used:<br> \n",
    "In 1994 USA implemented an expansion of the Earned Income Tax Credit on single women. We want to understend if this had any impact on employment (i.e. increased the number of single women working). In this case our control group is <b>`Not married Women with 0 children`</b> and our treatment group (test) is <b>`Not married Women with at least one child`</b>.\n",
    "We want to examine the impact of the policy on employment (<b>`Work`</b> within our dataset)<br>\n",
    "\n",
    ">Note: Randomized control tests are almost always preferable to a diff in diff tests<br>\n",
    "\n",
    "\n",
    "<h4>Assumptions</h4>\n",
    "\n",
    "- Parallel trends assumption (see graph below). In absence of treatment, the difference between test and control needs to be constant over time. <br>(No official test process for this)\n",
    "- Composition of test and control groups is stable over the treatment/experiment period\n",
    "- No spillover effects"
   ]
  },
  {
   "cell_type": "markdown",
   "metadata": {},
   "source": [
    "<img src=\"https://lh4.googleusercontent.com/UtytOKLni9vQ3RM0ry8m8d9hrg1vS_QKjcJQSs9VJkoVxNduZieXLGLP4eMoQj8VgFs4YKv2EhS2LtAtjlYpvvWfDzFVrXm6_ne04ZWodnzHh7M6p_niTgD34S4AivX5oAPYWSc\">"
   ]
  },
  {
   "cell_type": "code",
   "execution_count": 4,
   "metadata": {
    "collapsed": true
   },
   "outputs": [],
   "source": [
    "df = df[['Work', 'Post_Period', 'Treatment_Group', 'Nonwhite', 'Finc', 'Earn', 'Age', 'Ed', 'Unearn', 'Urate', 'Year']]"
   ]
  },
  {
   "cell_type": "code",
   "execution_count": 5,
   "metadata": {},
   "outputs": [
    {
     "data": {
      "application/vnd.dataresource+json": {
       "data": [
        {
         "Age": 26,
         "Earn": 818.3556405,
         "Ed": 10,
         "Finc": 5427.743786,
         "Nonwhite": 1,
         "Post_Period": 1,
         "Treatment_Group": 1,
         "Unearn": 4.609388145,
         "Urate": 2.900000095,
         "Work": 1,
         "Year": 1996,
         "index": 12503
        },
        {
         "Age": 21,
         "Earn": 36821.86235,
         "Ed": 11,
         "Finc": 36821.86235,
         "Nonwhite": 1,
         "Post_Period": 1,
         "Treatment_Group": 0,
         "Unearn": 0,
         "Urate": 6.900000095,
         "Work": 1,
         "Year": 1994,
         "index": 7729
        },
        {
         "Age": 27,
         "Earn": 43762.62976,
         "Ed": 11,
         "Finc": 43929.23875,
         "Nonwhite": 1,
         "Post_Period": 0,
         "Treatment_Group": 0,
         "Unearn": 0.166608997,
         "Urate": 7.5,
         "Work": 1,
         "Year": 1993,
         "index": 6012
        },
        {
         "Age": 42,
         "Earn": 0,
         "Ed": 7,
         "Finc": 3991.923077,
         "Nonwhite": 1,
         "Post_Period": 1,
         "Treatment_Group": 1,
         "Unearn": 3.991923077,
         "Urate": 6.599999905,
         "Work": 0,
         "Year": 1994,
         "index": 8780
        },
        {
         "Age": 53,
         "Earn": 0,
         "Ed": 7,
         "Finc": 13888.78855,
         "Nonwhite": 0,
         "Post_Period": 0,
         "Treatment_Group": 0,
         "Unearn": 13.88878855,
         "Urate": 7.199999809,
         "Work": 0,
         "Year": 1991,
         "index": 1058
        }
       ],
       "schema": {
        "fields": [
         {
          "name": "index",
          "type": "integer"
         },
         {
          "name": "Work",
          "type": "integer"
         },
         {
          "name": "Post_Period",
          "type": "integer"
         },
         {
          "name": "Treatment_Group",
          "type": "integer"
         },
         {
          "name": "Nonwhite",
          "type": "integer"
         },
         {
          "name": "Finc",
          "type": "number"
         },
         {
          "name": "Earn",
          "type": "number"
         },
         {
          "name": "Age",
          "type": "integer"
         },
         {
          "name": "Ed",
          "type": "integer"
         },
         {
          "name": "Unearn",
          "type": "number"
         },
         {
          "name": "Urate",
          "type": "number"
         },
         {
          "name": "Year",
          "type": "integer"
         }
        ],
        "pandas_version": "0.20.0",
        "primaryKey": [
         "index"
        ]
       }
      },
      "text/html": [
       "<div>\n",
       "<style scoped>\n",
       "    .dataframe tbody tr th:only-of-type {\n",
       "        vertical-align: middle;\n",
       "    }\n",
       "\n",
       "    .dataframe tbody tr th {\n",
       "        vertical-align: top;\n",
       "    }\n",
       "\n",
       "    .dataframe thead th {\n",
       "        text-align: right;\n",
       "    }\n",
       "</style>\n",
       "<table border=\"1\" class=\"dataframe\">\n",
       "  <thead>\n",
       "    <tr style=\"text-align: right;\">\n",
       "      <th></th>\n",
       "      <th>Work</th>\n",
       "      <th>Post_Period</th>\n",
       "      <th>Treatment_Group</th>\n",
       "      <th>Nonwhite</th>\n",
       "      <th>Finc</th>\n",
       "      <th>Earn</th>\n",
       "      <th>Age</th>\n",
       "      <th>Ed</th>\n",
       "      <th>Unearn</th>\n",
       "      <th>Urate</th>\n",
       "      <th>Year</th>\n",
       "    </tr>\n",
       "  </thead>\n",
       "  <tbody>\n",
       "    <tr>\n",
       "      <th>12503</th>\n",
       "      <td>1</td>\n",
       "      <td>1</td>\n",
       "      <td>1</td>\n",
       "      <td>1</td>\n",
       "      <td>5427.743786</td>\n",
       "      <td>818.355641</td>\n",
       "      <td>26</td>\n",
       "      <td>10</td>\n",
       "      <td>4.609388</td>\n",
       "      <td>2.9</td>\n",
       "      <td>1996</td>\n",
       "    </tr>\n",
       "    <tr>\n",
       "      <th>7729</th>\n",
       "      <td>1</td>\n",
       "      <td>1</td>\n",
       "      <td>0</td>\n",
       "      <td>1</td>\n",
       "      <td>36821.862350</td>\n",
       "      <td>36821.862350</td>\n",
       "      <td>21</td>\n",
       "      <td>11</td>\n",
       "      <td>0.000000</td>\n",
       "      <td>6.9</td>\n",
       "      <td>1994</td>\n",
       "    </tr>\n",
       "    <tr>\n",
       "      <th>6012</th>\n",
       "      <td>1</td>\n",
       "      <td>0</td>\n",
       "      <td>0</td>\n",
       "      <td>1</td>\n",
       "      <td>43929.238750</td>\n",
       "      <td>43762.629760</td>\n",
       "      <td>27</td>\n",
       "      <td>11</td>\n",
       "      <td>0.166609</td>\n",
       "      <td>7.5</td>\n",
       "      <td>1993</td>\n",
       "    </tr>\n",
       "    <tr>\n",
       "      <th>8780</th>\n",
       "      <td>0</td>\n",
       "      <td>1</td>\n",
       "      <td>1</td>\n",
       "      <td>1</td>\n",
       "      <td>3991.923077</td>\n",
       "      <td>0.000000</td>\n",
       "      <td>42</td>\n",
       "      <td>7</td>\n",
       "      <td>3.991923</td>\n",
       "      <td>6.6</td>\n",
       "      <td>1994</td>\n",
       "    </tr>\n",
       "    <tr>\n",
       "      <th>1058</th>\n",
       "      <td>0</td>\n",
       "      <td>0</td>\n",
       "      <td>0</td>\n",
       "      <td>0</td>\n",
       "      <td>13888.788550</td>\n",
       "      <td>0.000000</td>\n",
       "      <td>53</td>\n",
       "      <td>7</td>\n",
       "      <td>13.888789</td>\n",
       "      <td>7.2</td>\n",
       "      <td>1991</td>\n",
       "    </tr>\n",
       "  </tbody>\n",
       "</table>\n",
       "</div>"
      ],
      "text/plain": [
       "       Work  Post_Period  Treatment_Group  Nonwhite          Finc  \\\n",
       "12503     1            1                1         1   5427.743786   \n",
       "7729      1            1                0         1  36821.862350   \n",
       "6012      1            0                0         1  43929.238750   \n",
       "8780      0            1                1         1   3991.923077   \n",
       "1058      0            0                0         0  13888.788550   \n",
       "\n",
       "               Earn  Age  Ed     Unearn  Urate  Year  \n",
       "12503    818.355641   26  10   4.609388    2.9  1996  \n",
       "7729   36821.862350   21  11   0.000000    6.9  1994  \n",
       "6012   43762.629760   27  11   0.166609    7.5  1993  \n",
       "8780       0.000000   42   7   3.991923    6.6  1994  \n",
       "1058       0.000000   53   7  13.888789    7.2  1991  "
      ]
     },
     "execution_count": 5,
     "metadata": {
      "bento_obj_id": "140100892472272"
     },
     "output_type": "execute_result"
    }
   ],
   "source": [
    "df.sample(5)"
   ]
  },
  {
   "cell_type": "markdown",
   "metadata": {},
   "source": [
    "<b>`Work`</b> is the metric we will explore for a significant difference after the intervention which happend in `1994`"
   ]
  },
  {
   "cell_type": "markdown",
   "metadata": {},
   "source": [
    "Differences between `Test` and `Control` group might be also attributed to difference in the other (confounding) variables such are Unearn, Age, Earn etc."
   ]
  },
  {
   "cell_type": "markdown",
   "metadata": {},
   "source": [
    "### Explore"
   ]
  },
  {
   "cell_type": "code",
   "execution_count": 6,
   "metadata": {},
   "outputs": [
    {
     "data": {
      "image/png": "[encoded data removed]",
      "text/plain": [
       "<Figure size 864x432 with 1 Axes>"
      ]
     },
     "metadata": {
      "bento_obj_id": "140100924277840"
     },
     "output_type": "display_data"
    }
   ],
   "source": [
    "tmp = df.groupby(['Year', 'Treatment_Group'])[['Work']].mean().unstack()\n",
    "tmp.columns = ['Control', 'Treatment']\n",
    "\n",
    "ax = tmp.plot(figsize=(12, 6), style='o-', lw=3)\n",
    "ax.axvline(1994, color='k', linestyle='--', lw=4, label='Intervention')\n",
    "ax.set_ylabel(\"% of Metric (% of single family females working)\");"
   ]
  },
  {
   "cell_type": "markdown",
   "metadata": {},
   "source": [
    "### Compute effect"
   ]
  },
  {
   "cell_type": "markdown",
   "metadata": {},
   "source": [
    "The formula is:<b> $\\langle  \\text{Difference in Post Period} - \\text{Difference in Pre Period}\\rangle $ </b> i.e <b>Diff in Diff</b><br>of the average metric value"
   ]
  },
  {
   "cell_type": "code",
   "execution_count": 7,
   "metadata": {
    "collapsed": true
   },
   "outputs": [],
   "source": [
    "df_effect = df.groupby(['Treatment_Group', 'Post_Period'])[['Work']].mean().unstack(level=0)\n",
    "df_effect.columns = ['Control', 'Treatment']\n",
    "df_effect.index  = ['Pre', 'Post']"
   ]
  },
  {
   "cell_type": "code",
   "execution_count": 8,
   "metadata": {
    "collapsed": true
   },
   "outputs": [],
   "source": [
    "df_effect['diff'] = df_effect['Treatment'] - df_effect['Control']"
   ]
  },
  {
   "cell_type": "code",
   "execution_count": 9,
   "metadata": {},
   "outputs": [
    {
     "data": {
      "application/vnd.dataresource+json": {
       "data": [
        {
         "Control": 0.5754597337,
         "Treatment": 0.4459618554,
         "diff": -0.1294978782,
         "index": "Pre"
        },
        {
         "Control": 0.5733862243,
         "Treatment": 0.4907614782,
         "diff": -0.0826247461,
         "index": "Post"
        }
       ],
       "schema": {
        "fields": [
         {
          "name": "index",
          "type": "string"
         },
         {
          "name": "Control",
          "type": "number"
         },
         {
          "name": "Treatment",
          "type": "number"
         },
         {
          "name": "diff",
          "type": "number"
         }
        ],
        "pandas_version": "0.20.0",
        "primaryKey": [
         "index"
        ]
       }
      },
      "text/html": [
       "<div>\n",
       "<style scoped>\n",
       "    .dataframe tbody tr th:only-of-type {\n",
       "        vertical-align: middle;\n",
       "    }\n",
       "\n",
       "    .dataframe tbody tr th {\n",
       "        vertical-align: top;\n",
       "    }\n",
       "\n",
       "    .dataframe thead th {\n",
       "        text-align: right;\n",
       "    }\n",
       "</style>\n",
       "<table border=\"1\" class=\"dataframe\">\n",
       "  <thead>\n",
       "    <tr style=\"text-align: right;\">\n",
       "      <th></th>\n",
       "      <th>Control</th>\n",
       "      <th>Treatment</th>\n",
       "      <th>diff</th>\n",
       "    </tr>\n",
       "  </thead>\n",
       "  <tbody>\n",
       "    <tr>\n",
       "      <th>Pre</th>\n",
       "      <td>0.575460</td>\n",
       "      <td>0.445962</td>\n",
       "      <td>-0.129498</td>\n",
       "    </tr>\n",
       "    <tr>\n",
       "      <th>Post</th>\n",
       "      <td>0.573386</td>\n",
       "      <td>0.490761</td>\n",
       "      <td>-0.082625</td>\n",
       "    </tr>\n",
       "  </tbody>\n",
       "</table>\n",
       "</div>"
      ],
      "text/plain": [
       "       Control  Treatment      diff\n",
       "Pre   0.575460   0.445962 -0.129498\n",
       "Post  0.573386   0.490761 -0.082625"
      ]
     },
     "execution_count": 9,
     "metadata": {
      "bento_obj_id": "140100902362832"
     },
     "output_type": "execute_result"
    }
   ],
   "source": [
    "df_effect"
   ]
  },
  {
   "cell_type": "code",
   "execution_count": 10,
   "metadata": {
    "collapsed": true
   },
   "outputs": [],
   "source": [
    "did = df_effect.loc[df_effect.index=='Post', 'diff'][0] - df_effect.loc[df_effect.index=='Pre', 'diff'][0] # did: diff in diff"
   ]
  },
  {
   "cell_type": "code",
   "execution_count": 11,
   "metadata": {},
   "outputs": [
    {
     "data": {
      "text/plain": [
       "0.04687313210185562"
      ]
     },
     "execution_count": 11,
     "metadata": {
      "bento_obj_id": "140100861548368"
     },
     "output_type": "execute_result"
    }
   ],
   "source": [
    "did"
   ]
  },
  {
   "cell_type": "markdown",
   "metadata": {},
   "source": [
    "So the calulated lift is 0.046 or 4.6%"
   ]
  },
  {
   "cell_type": "code",
   "execution_count": 12,
   "metadata": {},
   "outputs": [
    {
     "data": {
      "image/png": "[encoded data removed]",
      "text/plain": [
       "<Figure size 864x432 with 1 Axes>"
      ]
     },
     "metadata": {
      "bento_obj_id": "140100861641168"
     },
     "output_type": "display_data"
    }
   ],
   "source": [
    "ax = (df_effect[['Control', 'Treatment']] * 100).plot(kind='bar', figsize=(12,6), title='Diff in Diff calculation\\n')\n",
    "ax.set_ylabel(\"% of Metric\");"
   ]
  },
  {
   "cell_type": "code",
   "execution_count": 13,
   "metadata": {},
   "outputs": [
    {
     "data": {
      "image/png": "[encoded data removed]",
      "text/plain": [
       "<Figure size 864x432 with 1 Axes>"
      ]
     },
     "metadata": {
      "bento_obj_id": "140100861946768"
     },
     "output_type": "display_data"
    }
   ],
   "source": [
    "ax = (df_effect['diff'] * 100 ).plot(kind='bar', figsize=(12,6), title='Comparing difference between Test and Control \\nfor pre and post intervention\\n')\n",
    "ax.set_ylabel(\"% Dif between Test and Control\");"
   ]
  },
  {
   "cell_type": "code",
   "execution_count": 14,
   "metadata": {},
   "outputs": [
    {
     "data": {
      "image/png": "[encoded data removed]",
      "text/plain": [
       "<Figure size 576x432 with 1 Axes>"
      ]
     },
     "metadata": {
      "bento_obj_id": "140100860485968"
     },
     "output_type": "display_data"
    }
   ],
   "source": [
    "ax = pd.DataFrame({'Diff in Diff':[ did * 100]}, index=['DID']).\\\n",
    "    plot(kind='bar',  title='Diff: (pre vs post) in Diff: (test vs control)\\n', figsize=(8,6), width=0.3)\n",
    "ax.annotate(f'{round(did*100, 1)}%', (-0.04, round(did*100, 1)-0.5), size=16,  weight='bold', color='white');"
   ]
  },
  {
   "cell_type": "markdown",
   "metadata": {},
   "source": [
    "### Regression estimation"
   ]
  },
  {
   "cell_type": "markdown",
   "metadata": {},
   "source": [
    "We can also calculate the Diff in Diff with a linear regression using only the $Metric$, the $TreatmentVar$ and the $ProPostPeriodVar$"
   ]
  },
  {
   "cell_type": "code",
   "execution_count": 15,
   "metadata": {},
   "outputs": [
    {
     "data": {
      "application/vnd.dataresource+json": {
       "data": [
        {
         "Post_Period": 0,
         "Treatment_Group": 0,
         "Work": 1,
         "index": 0
        },
        {
         "Post_Period": 0,
         "Treatment_Group": 1,
         "Work": 1,
         "index": 1
        },
        {
         "Post_Period": 0,
         "Treatment_Group": 1,
         "Work": 0,
         "index": 2
        },
        {
         "Post_Period": 0,
         "Treatment_Group": 0,
         "Work": 0,
         "index": 3
        },
        {
         "Post_Period": 0,
         "Treatment_Group": 1,
         "Work": 1,
         "index": 4
        }
       ],
       "schema": {
        "fields": [
         {
          "name": "index",
          "type": "integer"
         },
         {
          "name": "Work",
          "type": "integer"
         },
         {
          "name": "Post_Period",
          "type": "integer"
         },
         {
          "name": "Treatment_Group",
          "type": "integer"
         }
        ],
        "pandas_version": "0.20.0",
        "primaryKey": [
         "index"
        ]
       }
      },
      "text/html": [
       "<div>\n",
       "<style scoped>\n",
       "    .dataframe tbody tr th:only-of-type {\n",
       "        vertical-align: middle;\n",
       "    }\n",
       "\n",
       "    .dataframe tbody tr th {\n",
       "        vertical-align: top;\n",
       "    }\n",
       "\n",
       "    .dataframe thead th {\n",
       "        text-align: right;\n",
       "    }\n",
       "</style>\n",
       "<table border=\"1\" class=\"dataframe\">\n",
       "  <thead>\n",
       "    <tr style=\"text-align: right;\">\n",
       "      <th></th>\n",
       "      <th>Work</th>\n",
       "      <th>Post_Period</th>\n",
       "      <th>Treatment_Group</th>\n",
       "    </tr>\n",
       "  </thead>\n",
       "  <tbody>\n",
       "    <tr>\n",
       "      <th>0</th>\n",
       "      <td>1</td>\n",
       "      <td>0</td>\n",
       "      <td>0</td>\n",
       "    </tr>\n",
       "    <tr>\n",
       "      <th>1</th>\n",
       "      <td>1</td>\n",
       "      <td>0</td>\n",
       "      <td>1</td>\n",
       "    </tr>\n",
       "    <tr>\n",
       "      <th>2</th>\n",
       "      <td>0</td>\n",
       "      <td>0</td>\n",
       "      <td>1</td>\n",
       "    </tr>\n",
       "    <tr>\n",
       "      <th>3</th>\n",
       "      <td>0</td>\n",
       "      <td>0</td>\n",
       "      <td>0</td>\n",
       "    </tr>\n",
       "    <tr>\n",
       "      <th>4</th>\n",
       "      <td>1</td>\n",
       "      <td>0</td>\n",
       "      <td>1</td>\n",
       "    </tr>\n",
       "  </tbody>\n",
       "</table>\n",
       "</div>"
      ],
      "text/plain": [
       "   Work  Post_Period  Treatment_Group\n",
       "0     1            0                0\n",
       "1     1            0                1\n",
       "2     0            0                1\n",
       "3     0            0                0\n",
       "4     1            0                1"
      ]
     },
     "execution_count": 15,
     "metadata": {
      "bento_obj_id": "140100860488784"
     },
     "output_type": "execute_result"
    }
   ],
   "source": [
    "df[['Work', 'Post_Period', 'Treatment_Group']].head(5)"
   ]
  },
  {
   "cell_type": "markdown",
   "metadata": {},
   "source": [
    "$Work = b_0 + b_1 * Post\\_Period + b_2 * Treatment\\_Group + b_3 * (Post\\_Period * Treatment\\_Group)$"
   ]
  },
  {
   "cell_type": "markdown",
   "metadata": {},
   "source": [
    "Notice the Treatment group and the Post period need to be recoded as `1`, Pre period and Contol group as `0`"
   ]
  },
  {
   "cell_type": "code",
   "execution_count": 16,
   "metadata": {
    "collapsed": true
   },
   "outputs": [],
   "source": [
    "tmp = df[['Work', 'Post_Period', 'Treatment_Group']].copy()\n",
    "tmp['Interaction'] = tmp['Post_Period'] * tmp['Treatment_Group'] # this is the group we are interested in, i.e. After treatment date for the treatment group"
   ]
  },
  {
   "cell_type": "code",
   "execution_count": 17,
   "metadata": {},
   "outputs": [
    {
     "data": {
      "text/html": [
       "<table class=\"simpletable\">\n",
       "<caption>OLS Regression Results</caption>\n",
       "<tr>\n",
       "  <th>Dep. Variable:</th>          <td>Work</td>       <th>  R-squared:         </th> <td>   0.013</td> \n",
       "</tr>\n",
       "<tr>\n",
       "  <th>Model:</th>                   <td>OLS</td>       <th>  Adj. R-squared:    </th> <td>   0.012</td> \n",
       "</tr>\n",
       "<tr>\n",
       "  <th>Method:</th>             <td>Least Squares</td>  <th>  F-statistic:       </th> <td>   58.45</td> \n",
       "</tr>\n",
       "<tr>\n",
       "  <th>Date:</th>             <td>Thu, 09 Jan 2020</td> <th>  Prob (F-statistic):</th> <td>1.54e-37</td> \n",
       "</tr>\n",
       "<tr>\n",
       "  <th>Time:</th>                 <td>05:57:44</td>     <th>  Log-Likelihood:    </th> <td> -9884.9</td> \n",
       "</tr>\n",
       "<tr>\n",
       "  <th>No. Observations:</th>      <td> 13746</td>      <th>  AIC:               </th> <td>1.978e+04</td>\n",
       "</tr>\n",
       "<tr>\n",
       "  <th>Df Residuals:</th>          <td> 13742</td>      <th>  BIC:               </th> <td>1.981e+04</td>\n",
       "</tr>\n",
       "<tr>\n",
       "  <th>Df Model:</th>              <td>     3</td>      <th>                     </th>     <td> </td>    \n",
       "</tr>\n",
       "<tr>\n",
       "  <th>Covariance Type:</th>      <td>nonrobust</td>    <th>                     </th>     <td> </td>    \n",
       "</tr>\n",
       "</table>\n",
       "<table class=\"simpletable\">\n",
       "<tr>\n",
       "         <td></td>            <th>coef</th>     <th>std err</th>      <th>t</th>      <th>P>|t|</th>  <th>[0.025</th>    <th>0.975]</th>  \n",
       "</tr>\n",
       "<tr>\n",
       "  <th>const</th>           <td>    0.5755</td> <td>    0.009</td> <td>   65.060</td> <td> 0.000</td> <td>    0.558</td> <td>    0.593</td>\n",
       "</tr>\n",
       "<tr>\n",
       "  <th>Post_Period</th>     <td>   -0.0021</td> <td>    0.013</td> <td>   -0.160</td> <td> 0.873</td> <td>   -0.027</td> <td>    0.023</td>\n",
       "</tr>\n",
       "<tr>\n",
       "  <th>Treatment_Group</th> <td>   -0.1295</td> <td>    0.012</td> <td>  -11.091</td> <td> 0.000</td> <td>   -0.152</td> <td>   -0.107</td>\n",
       "</tr>\n",
       "<tr>\n",
       "  <th>Interaction</th>     <td>    0.0469</td> <td>    0.017</td> <td>    2.732</td> <td> 0.006</td> <td>    0.013</td> <td>    0.081</td>\n",
       "</tr>\n",
       "</table>\n",
       "<table class=\"simpletable\">\n",
       "<tr>\n",
       "  <th>Omnibus:</th>       <td> 5.965</td> <th>  Durbin-Watson:     </th> <td>   1.978</td>\n",
       "</tr>\n",
       "<tr>\n",
       "  <th>Prob(Omnibus):</th> <td> 0.051</td> <th>  Jarque-Bera (JB):  </th> <td>2175.929</td>\n",
       "</tr>\n",
       "<tr>\n",
       "  <th>Skew:</th>          <td>-0.051</td> <th>  Prob(JB):          </th> <td>    0.00</td>\n",
       "</tr>\n",
       "<tr>\n",
       "  <th>Kurtosis:</th>      <td> 1.054</td> <th>  Cond. No.          </th> <td>    7.14</td>\n",
       "</tr>\n",
       "</table><br/><br/>Warnings:<br/>[1] Standard Errors assume that the covariance matrix of the errors is correctly specified."
      ],
      "text/plain": [
       "<class 'statsmodels.iolib.summary.Summary'>\n",
       "\"\"\"\n",
       "                            OLS Regression Results                            \n",
       "==============================================================================\n",
       "Dep. Variable:                   Work   R-squared:                       0.013\n",
       "Model:                            OLS   Adj. R-squared:                  0.012\n",
       "Method:                 Least Squares   F-statistic:                     58.45\n",
       "Date:                Thu, 09 Jan 2020   Prob (F-statistic):           1.54e-37\n",
       "Time:                        05:57:44   Log-Likelihood:                -9884.9\n",
       "No. Observations:               13746   AIC:                         1.978e+04\n",
       "Df Residuals:                   13742   BIC:                         1.981e+04\n",
       "Df Model:                           3                                         \n",
       "Covariance Type:            nonrobust                                         \n",
       "===================================================================================\n",
       "                      coef    std err          t      P>|t|      [0.025      0.975]\n",
       "-----------------------------------------------------------------------------------\n",
       "const               0.5755      0.009     65.060      0.000       0.558       0.593\n",
       "Post_Period        -0.0021      0.013     -0.160      0.873      -0.027       0.023\n",
       "Treatment_Group    -0.1295      0.012    -11.091      0.000      -0.152      -0.107\n",
       "Interaction         0.0469      0.017      2.732      0.006       0.013       0.081\n",
       "==============================================================================\n",
       "Omnibus:                        5.965   Durbin-Watson:                   1.978\n",
       "Prob(Omnibus):                  0.051   Jarque-Bera (JB):             2175.929\n",
       "Skew:                          -0.051   Prob(JB):                         0.00\n",
       "Kurtosis:                       1.054   Cond. No.                         7.14\n",
       "==============================================================================\n",
       "\n",
       "Warnings:\n",
       "[1] Standard Errors assume that the covariance matrix of the errors is correctly specified.\n",
       "\"\"\""
      ]
     },
     "execution_count": 17,
     "metadata": {
      "bento_obj_id": "140100855488464"
     },
     "output_type": "execute_result"
    }
   ],
   "source": [
    "X = tmp[['Post_Period', 'Treatment_Group', 'Interaction']]\n",
    "X = sm.add_constant(X)\n",
    "\n",
    "y = tmp['Work']\n",
    "\n",
    "# Note the difference in argument order\n",
    "model = sm.OLS(y, X).fit()\n",
    "\n",
    "# Print out the statistics\n",
    "model.summary()"
   ]
  },
  {
   "cell_type": "markdown",
   "metadata": {},
   "source": [
    "Notice that we get exactly the same result i.e. the coefficient of the interaction term is the same as the effect we computed before"
   ]
  },
  {
   "cell_type": "code",
   "execution_count": 18,
   "metadata": {},
   "outputs": [
    {
     "data": {
      "text/plain": [
       "True"
      ]
     },
     "execution_count": 18,
     "metadata": {
      "bento_obj_id": "140102166360376"
     },
     "output_type": "execute_result"
    }
   ],
   "source": [
    "round(model.params['Interaction'], 5) == round(did, 5)"
   ]
  },
  {
   "cell_type": "code",
   "execution_count": 19,
   "metadata": {},
   "outputs": [
    {
     "data": {
      "image/png": "[encoded data removed]",
      "text/plain": [
       "<Figure size 576x432 with 1 Axes>"
      ]
     },
     "metadata": {
      "bento_obj_id": "140100842601168"
     },
     "output_type": "display_data"
    }
   ],
   "source": [
    "coeff = model.params['Interaction'] * 100\n",
    "lower = model.conf_int().loc[\"Interaction\"][0]*100\n",
    "upper = model.conf_int().loc[\"Interaction\"][1]*100\n",
    "\n",
    "\n",
    "ax = pd.DataFrame({'Diff in Diff':[coeff]}, index=['DID']).plot(kind='bar', \n",
    "            yerr=[[coeff - lower]], \n",
    "            width=0.3, error_kw=dict(elinewidth=5,ecolor='darkblue'), \n",
    "            title='Diff in Diff @ 95% confidence\\n', figsize=(8,6))\n",
    "\n",
    "ax.annotate(f'{round(coeff, 1)}%', (0.01, round(coeff, 1)-0.5), size=16,  weight='bold', color='white')\n",
    "ax.annotate(f'{round(lower, 1)}%', (0.01, round(lower, 1)), size=16,  weight='bold', color='darkblue')\n",
    "ax.annotate(f'{round(upper, 1)}%', (0.01, round(upper-0.5, 1)), size=16,  weight='bold', color='darkblue');"
   ]
  },
  {
   "cell_type": "markdown",
   "metadata": {},
   "source": [
    "### Include confounding effects\n",
    "\n"
   ]
  },
  {
   "cell_type": "markdown",
   "metadata": {},
   "source": [
    "Visually check is we have high correlation between the variables "
   ]
  },
  {
   "cell_type": "code",
   "execution_count": 20,
   "metadata": {},
   "outputs": [
    {
     "name": "stderr",
     "output_type": "stream",
     "text": [
      "/mnt/xarfuse/uid-208222/d0af6166-ns-4026531840/matplotlib/colors.py:504: RuntimeWarning:\n",
      "\n",
      "invalid value encountered in less\n",
      "\n"
     ]
    },
    {
     "data": {
      "text/html": [
       "<style  type=\"text/css\" >\n",
       "    #T_02d5188a_32e8_11ea_8634_4857dd05d0barow0_col0 {\n",
       "            background-color:  #a50026;\n",
       "            color:  white;\n",
       "            font-size:  12pt;\n",
       "        }    #T_02d5188a_32e8_11ea_8634_4857dd05d0barow0_col1 {\n",
       "            background-color:  #0b7d42;\n",
       "            color:  white;\n",
       "            font-size:  12pt;\n",
       "        }    #T_02d5188a_32e8_11ea_8634_4857dd05d0barow0_col2 {\n",
       "            background-color:  #fee18d;\n",
       "            color:  white;\n",
       "            font-size:  12pt;\n",
       "        }    #T_02d5188a_32e8_11ea_8634_4857dd05d0barow0_col3 {\n",
       "            background-color:  #c41e27;\n",
       "            color:  white;\n",
       "            font-size:  12pt;\n",
       "        }    #T_02d5188a_32e8_11ea_8634_4857dd05d0barow0_col4 {\n",
       "            background-color:  #fff2aa;\n",
       "            color:  white;\n",
       "            font-size:  12pt;\n",
       "        }    #T_02d5188a_32e8_11ea_8634_4857dd05d0barow0_col5 {\n",
       "            background-color:  #138c4a;\n",
       "            color:  white;\n",
       "            font-size:  12pt;\n",
       "        }    #T_02d5188a_32e8_11ea_8634_4857dd05d0barow0_col6 {\n",
       "            background-color:  #006837;\n",
       "            color:  white;\n",
       "            font-size:  12pt;\n",
       "        }    #T_02d5188a_32e8_11ea_8634_4857dd05d0barow0_col7 {\n",
       "            background-color:  #a50026;\n",
       "            color:  white;\n",
       "            font-size:  12pt;\n",
       "        }    #T_02d5188a_32e8_11ea_8634_4857dd05d0barow0_col8 {\n",
       "            background-color:  #e5f49b;\n",
       "            color:  white;\n",
       "            font-size:  12pt;\n",
       "        }    #T_02d5188a_32e8_11ea_8634_4857dd05d0barow0_col9 {\n",
       "            background-color:  #fdc574;\n",
       "            color:  white;\n",
       "            font-size:  12pt;\n",
       "        }    #T_02d5188a_32e8_11ea_8634_4857dd05d0barow1_col0 {\n",
       "            background-color:  #fff7b2;\n",
       "            color:  white;\n",
       "            font-size:  12pt;\n",
       "        }    #T_02d5188a_32e8_11ea_8634_4857dd05d0barow1_col1 {\n",
       "            background-color:  #a50026;\n",
       "            color:  white;\n",
       "            font-size:  12pt;\n",
       "        }    #T_02d5188a_32e8_11ea_8634_4857dd05d0barow1_col2 {\n",
       "            background-color:  #cbe982;\n",
       "            color:  white;\n",
       "            font-size:  12pt;\n",
       "        }    #T_02d5188a_32e8_11ea_8634_4857dd05d0barow1_col3 {\n",
       "            background-color:  #fff8b4;\n",
       "            color:  white;\n",
       "            font-size:  12pt;\n",
       "        }    #T_02d5188a_32e8_11ea_8634_4857dd05d0barow1_col4 {\n",
       "            background-color:  #eb5a3a;\n",
       "            color:  white;\n",
       "            font-size:  12pt;\n",
       "        }    #T_02d5188a_32e8_11ea_8634_4857dd05d0barow1_col5 {\n",
       "            background-color:  #51b35e;\n",
       "            color:  white;\n",
       "            font-size:  12pt;\n",
       "        }    #T_02d5188a_32e8_11ea_8634_4857dd05d0barow1_col6 {\n",
       "            background-color:  #a7d96b;\n",
       "            color:  white;\n",
       "            font-size:  12pt;\n",
       "        }    #T_02d5188a_32e8_11ea_8634_4857dd05d0barow1_col7 {\n",
       "            background-color:  #fee28f;\n",
       "            color:  white;\n",
       "            font-size:  12pt;\n",
       "        }    #T_02d5188a_32e8_11ea_8634_4857dd05d0barow1_col8 {\n",
       "            background-color:  #a50026;\n",
       "            color:  white;\n",
       "            font-size:  12pt;\n",
       "        }    #T_02d5188a_32e8_11ea_8634_4857dd05d0barow1_col9 {\n",
       "            background-color:  #e65036;\n",
       "            color:  white;\n",
       "            font-size:  12pt;\n",
       "        }    #T_02d5188a_32e8_11ea_8634_4857dd05d0barow2_col0 {\n",
       "            background-color:  #f98e52;\n",
       "            color:  white;\n",
       "            font-size:  12pt;\n",
       "        }    #T_02d5188a_32e8_11ea_8634_4857dd05d0barow2_col1 {\n",
       "            background-color:  #279f53;\n",
       "            color:  white;\n",
       "            font-size:  12pt;\n",
       "        }    #T_02d5188a_32e8_11ea_8634_4857dd05d0barow2_col2 {\n",
       "            background-color:  #a50026;\n",
       "            color:  white;\n",
       "            font-size:  12pt;\n",
       "        }    #T_02d5188a_32e8_11ea_8634_4857dd05d0barow2_col3 {\n",
       "            background-color:  #4bb05c;\n",
       "            color:  white;\n",
       "            font-size:  12pt;\n",
       "        }    #T_02d5188a_32e8_11ea_8634_4857dd05d0barow2_col4 {\n",
       "            background-color:  #a50026;\n",
       "            color:  white;\n",
       "            font-size:  12pt;\n",
       "        }    #T_02d5188a_32e8_11ea_8634_4857dd05d0barow2_col5 {\n",
       "            background-color:  #a50026;\n",
       "            color:  white;\n",
       "            font-size:  12pt;\n",
       "        }    #T_02d5188a_32e8_11ea_8634_4857dd05d0barow2_col6 {\n",
       "            background-color:  #006837;\n",
       "            color:  white;\n",
       "            font-size:  12pt;\n",
       "        }    #T_02d5188a_32e8_11ea_8634_4857dd05d0barow2_col7 {\n",
       "            background-color:  #fee999;\n",
       "            color:  white;\n",
       "            font-size:  12pt;\n",
       "        }    #T_02d5188a_32e8_11ea_8634_4857dd05d0barow2_col8 {\n",
       "            background-color:  #75c465;\n",
       "            color:  white;\n",
       "            font-size:  12pt;\n",
       "        }    #T_02d5188a_32e8_11ea_8634_4857dd05d0barow2_col9 {\n",
       "            background-color:  #a50026;\n",
       "            color:  white;\n",
       "            font-size:  12pt;\n",
       "        }    #T_02d5188a_32e8_11ea_8634_4857dd05d0barow3_col0 {\n",
       "            background-color:  #fdaf62;\n",
       "            color:  white;\n",
       "            font-size:  12pt;\n",
       "        }    #T_02d5188a_32e8_11ea_8634_4857dd05d0barow3_col1 {\n",
       "            background-color:  #006837;\n",
       "            color:  white;\n",
       "            font-size:  12pt;\n",
       "        }    #T_02d5188a_32e8_11ea_8634_4857dd05d0barow3_col2 {\n",
       "            background-color:  #006837;\n",
       "            color:  white;\n",
       "            font-size:  12pt;\n",
       "        }    #T_02d5188a_32e8_11ea_8634_4857dd05d0barow3_col3 {\n",
       "            background-color:  #a50026;\n",
       "            color:  white;\n",
       "            font-size:  12pt;\n",
       "        }    #T_02d5188a_32e8_11ea_8634_4857dd05d0barow3_col4 {\n",
       "            background-color:  #d42d27;\n",
       "            color:  white;\n",
       "            font-size:  12pt;\n",
       "        }    #T_02d5188a_32e8_11ea_8634_4857dd05d0barow3_col5 {\n",
       "            background-color:  #7ac665;\n",
       "            color:  white;\n",
       "            font-size:  12pt;\n",
       "        }    #T_02d5188a_32e8_11ea_8634_4857dd05d0barow3_col6 {\n",
       "            background-color:  #fdaf62;\n",
       "            color:  white;\n",
       "            font-size:  12pt;\n",
       "        }    #T_02d5188a_32e8_11ea_8634_4857dd05d0barow3_col7 {\n",
       "            background-color:  #fdbb6c;\n",
       "            color:  white;\n",
       "            font-size:  12pt;\n",
       "        }    #T_02d5188a_32e8_11ea_8634_4857dd05d0barow3_col8 {\n",
       "            background-color:  #006837;\n",
       "            color:  white;\n",
       "            font-size:  12pt;\n",
       "        }    #T_02d5188a_32e8_11ea_8634_4857dd05d0barow3_col9 {\n",
       "            background-color:  #c82227;\n",
       "            color:  white;\n",
       "            font-size:  12pt;\n",
       "        }    #T_02d5188a_32e8_11ea_8634_4857dd05d0barow4_col0 {\n",
       "            background-color:  #006837;\n",
       "            color:  white;\n",
       "            font-size:  12pt;\n",
       "        }    #T_02d5188a_32e8_11ea_8634_4857dd05d0barow4_col1 {\n",
       "            background-color:  #0b7d42;\n",
       "            color:  white;\n",
       "            font-size:  12pt;\n",
       "        }    #T_02d5188a_32e8_11ea_8634_4857dd05d0barow4_col2 {\n",
       "            background-color:  #fba35c;\n",
       "            color:  white;\n",
       "            font-size:  12pt;\n",
       "        }    #T_02d5188a_32e8_11ea_8634_4857dd05d0barow4_col3 {\n",
       "            background-color:  #e0422f;\n",
       "            color:  white;\n",
       "            font-size:  12pt;\n",
       "        }    #T_02d5188a_32e8_11ea_8634_4857dd05d0barow4_col4 {\n",
       "            background-color:  #a50026;\n",
       "            color:  white;\n",
       "            font-size:  12pt;\n",
       "        }    #T_02d5188a_32e8_11ea_8634_4857dd05d0barow4_col5 {\n",
       "            background-color:  #128a49;\n",
       "            color:  white;\n",
       "            font-size:  12pt;\n",
       "        }    #T_02d5188a_32e8_11ea_8634_4857dd05d0barow4_col6 {\n",
       "            background-color:  #bbe278;\n",
       "            color:  white;\n",
       "            font-size:  12pt;\n",
       "        }    #T_02d5188a_32e8_11ea_8634_4857dd05d0barow4_col7 {\n",
       "            background-color:  #fede89;\n",
       "            color:  white;\n",
       "            font-size:  12pt;\n",
       "        }    #T_02d5188a_32e8_11ea_8634_4857dd05d0barow4_col8 {\n",
       "            background-color:  #b7e075;\n",
       "            color:  white;\n",
       "            font-size:  12pt;\n",
       "        }    #T_02d5188a_32e8_11ea_8634_4857dd05d0barow4_col9 {\n",
       "            background-color:  #006837;\n",
       "            color:  white;\n",
       "            font-size:  12pt;\n",
       "        }    #T_02d5188a_32e8_11ea_8634_4857dd05d0barow5_col0 {\n",
       "            background-color:  #f8fcb6;\n",
       "            color:  white;\n",
       "            font-size:  12pt;\n",
       "        }    #T_02d5188a_32e8_11ea_8634_4857dd05d0barow5_col1 {\n",
       "            background-color:  #108647;\n",
       "            color:  white;\n",
       "            font-size:  12pt;\n",
       "        }    #T_02d5188a_32e8_11ea_8634_4857dd05d0barow5_col2 {\n",
       "            background-color:  #a50026;\n",
       "            color:  white;\n",
       "            font-size:  12pt;\n",
       "        }    #T_02d5188a_32e8_11ea_8634_4857dd05d0barow5_col3 {\n",
       "            background-color:  #fdb163;\n",
       "            color:  white;\n",
       "            font-size:  12pt;\n",
       "        }    #T_02d5188a_32e8_11ea_8634_4857dd05d0barow5_col4 {\n",
       "            background-color:  #f36b42;\n",
       "            color:  white;\n",
       "            font-size:  12pt;\n",
       "        }    #T_02d5188a_32e8_11ea_8634_4857dd05d0barow5_col5 {\n",
       "            background-color:  #a50026;\n",
       "            color:  white;\n",
       "            font-size:  12pt;\n",
       "        }    #T_02d5188a_32e8_11ea_8634_4857dd05d0barow5_col6 {\n",
       "            background-color:  #a50026;\n",
       "            color:  white;\n",
       "            font-size:  12pt;\n",
       "        }    #T_02d5188a_32e8_11ea_8634_4857dd05d0barow5_col7 {\n",
       "            background-color:  #ebf7a3;\n",
       "            color:  white;\n",
       "            font-size:  12pt;\n",
       "        }    #T_02d5188a_32e8_11ea_8634_4857dd05d0barow5_col8 {\n",
       "            background-color:  #c7e77f;\n",
       "            color:  white;\n",
       "            font-size:  12pt;\n",
       "        }    #T_02d5188a_32e8_11ea_8634_4857dd05d0barow5_col9 {\n",
       "            background-color:  #f57245;\n",
       "            color:  white;\n",
       "            font-size:  12pt;\n",
       "        }    #T_02d5188a_32e8_11ea_8634_4857dd05d0barow6_col0 {\n",
       "            background-color:  #e3f399;\n",
       "            color:  white;\n",
       "            font-size:  12pt;\n",
       "        }    #T_02d5188a_32e8_11ea_8634_4857dd05d0barow6_col1 {\n",
       "            background-color:  #15904c;\n",
       "            color:  white;\n",
       "            font-size:  12pt;\n",
       "        }    #T_02d5188a_32e8_11ea_8634_4857dd05d0barow6_col2 {\n",
       "            background-color:  #42ac5a;\n",
       "            color:  white;\n",
       "            font-size:  12pt;\n",
       "        }    #T_02d5188a_32e8_11ea_8634_4857dd05d0barow6_col3 {\n",
       "            background-color:  #a50026;\n",
       "            color:  white;\n",
       "            font-size:  12pt;\n",
       "        }    #T_02d5188a_32e8_11ea_8634_4857dd05d0barow6_col4 {\n",
       "            background-color:  #e34933;\n",
       "            color:  white;\n",
       "            font-size:  12pt;\n",
       "        }    #T_02d5188a_32e8_11ea_8634_4857dd05d0barow6_col5 {\n",
       "            background-color:  #fdb163;\n",
       "            color:  white;\n",
       "            font-size:  12pt;\n",
       "        }    #T_02d5188a_32e8_11ea_8634_4857dd05d0barow6_col6 {\n",
       "            background-color:  #a50026;\n",
       "            color:  white;\n",
       "            font-size:  12pt;\n",
       "        }    #T_02d5188a_32e8_11ea_8634_4857dd05d0barow6_col7 {\n",
       "            background-color:  #fca85e;\n",
       "            color:  white;\n",
       "            font-size:  12pt;\n",
       "        }    #T_02d5188a_32e8_11ea_8634_4857dd05d0barow6_col8 {\n",
       "            background-color:  #f2faae;\n",
       "            color:  white;\n",
       "            font-size:  12pt;\n",
       "        }    #T_02d5188a_32e8_11ea_8634_4857dd05d0barow6_col9 {\n",
       "            background-color:  #d93429;\n",
       "            color:  white;\n",
       "            font-size:  12pt;\n",
       "        }    #T_02d5188a_32e8_11ea_8634_4857dd05d0barow7_col0 {\n",
       "            background-color:  #a50026;\n",
       "            color:  white;\n",
       "            font-size:  12pt;\n",
       "        }    #T_02d5188a_32e8_11ea_8634_4857dd05d0barow7_col1 {\n",
       "            background-color:  #249d53;\n",
       "            color:  white;\n",
       "            font-size:  12pt;\n",
       "        }    #T_02d5188a_32e8_11ea_8634_4857dd05d0barow7_col2 {\n",
       "            background-color:  #bbe278;\n",
       "            color:  white;\n",
       "            font-size:  12pt;\n",
       "        }    #T_02d5188a_32e8_11ea_8634_4857dd05d0barow7_col3 {\n",
       "            background-color:  #dd3d2d;\n",
       "            color:  white;\n",
       "            font-size:  12pt;\n",
       "        }    #T_02d5188a_32e8_11ea_8634_4857dd05d0barow7_col4 {\n",
       "            background-color:  #e0422f;\n",
       "            color:  white;\n",
       "            font-size:  12pt;\n",
       "        }    #T_02d5188a_32e8_11ea_8634_4857dd05d0barow7_col5 {\n",
       "            background-color:  #006837;\n",
       "            color:  white;\n",
       "            font-size:  12pt;\n",
       "        }    #T_02d5188a_32e8_11ea_8634_4857dd05d0barow7_col6 {\n",
       "            background-color:  #fece7c;\n",
       "            color:  white;\n",
       "            font-size:  12pt;\n",
       "        }    #T_02d5188a_32e8_11ea_8634_4857dd05d0barow7_col7 {\n",
       "            background-color:  #a50026;\n",
       "            color:  white;\n",
       "            font-size:  12pt;\n",
       "        }    #T_02d5188a_32e8_11ea_8634_4857dd05d0barow7_col8 {\n",
       "            background-color:  #8ccd67;\n",
       "            color:  white;\n",
       "            font-size:  12pt;\n",
       "        }    #T_02d5188a_32e8_11ea_8634_4857dd05d0barow7_col9 {\n",
       "            background-color:  #fff3ac;\n",
       "            color:  white;\n",
       "            font-size:  12pt;\n",
       "        }    #T_02d5188a_32e8_11ea_8634_4857dd05d0barow8_col0 {\n",
       "            background-color:  #fdb163;\n",
       "            color:  white;\n",
       "            font-size:  12pt;\n",
       "        }    #T_02d5188a_32e8_11ea_8634_4857dd05d0barow8_col1 {\n",
       "            background-color:  #a50026;\n",
       "            color:  white;\n",
       "            font-size:  12pt;\n",
       "        }    #T_02d5188a_32e8_11ea_8634_4857dd05d0barow8_col2 {\n",
       "            background-color:  #6ec064;\n",
       "            color:  white;\n",
       "            font-size:  12pt;\n",
       "        }    #T_02d5188a_32e8_11ea_8634_4857dd05d0barow8_col3 {\n",
       "            background-color:  #006837;\n",
       "            color:  white;\n",
       "            font-size:  12pt;\n",
       "        }    #T_02d5188a_32e8_11ea_8634_4857dd05d0barow8_col4 {\n",
       "            background-color:  #e14430;\n",
       "            color:  white;\n",
       "            font-size:  12pt;\n",
       "        }    #T_02d5188a_32e8_11ea_8634_4857dd05d0barow8_col5 {\n",
       "            background-color:  #a7d96b;\n",
       "            color:  white;\n",
       "            font-size:  12pt;\n",
       "        }    #T_02d5188a_32e8_11ea_8634_4857dd05d0barow8_col6 {\n",
       "            background-color:  #fcaa5f;\n",
       "            color:  white;\n",
       "            font-size:  12pt;\n",
       "        }    #T_02d5188a_32e8_11ea_8634_4857dd05d0barow8_col7 {\n",
       "            background-color:  #fff8b4;\n",
       "            color:  white;\n",
       "            font-size:  12pt;\n",
       "        }    #T_02d5188a_32e8_11ea_8634_4857dd05d0barow8_col8 {\n",
       "            background-color:  #a50026;\n",
       "            color:  white;\n",
       "            font-size:  12pt;\n",
       "        }    #T_02d5188a_32e8_11ea_8634_4857dd05d0barow8_col9 {\n",
       "            background-color:  #e34933;\n",
       "            color:  white;\n",
       "            font-size:  12pt;\n",
       "        }    #T_02d5188a_32e8_11ea_8634_4857dd05d0barow9_col0 {\n",
       "            background-color:  #60ba62;\n",
       "            color:  white;\n",
       "            font-size:  12pt;\n",
       "        }    #T_02d5188a_32e8_11ea_8634_4857dd05d0barow9_col1 {\n",
       "            background-color:  #0e8245;\n",
       "            color:  white;\n",
       "            font-size:  12pt;\n",
       "        }    #T_02d5188a_32e8_11ea_8634_4857dd05d0barow9_col2 {\n",
       "            background-color:  #fdb365;\n",
       "            color:  white;\n",
       "            font-size:  12pt;\n",
       "        }    #T_02d5188a_32e8_11ea_8634_4857dd05d0barow9_col3 {\n",
       "            background-color:  #ca2427;\n",
       "            color:  white;\n",
       "            font-size:  12pt;\n",
       "        }    #T_02d5188a_32e8_11ea_8634_4857dd05d0barow9_col4 {\n",
       "            background-color:  #006837;\n",
       "            color:  white;\n",
       "            font-size:  12pt;\n",
       "        }    #T_02d5188a_32e8_11ea_8634_4857dd05d0barow9_col5 {\n",
       "            background-color:  #006837;\n",
       "            color:  white;\n",
       "            font-size:  12pt;\n",
       "        }    #T_02d5188a_32e8_11ea_8634_4857dd05d0barow9_col6 {\n",
       "            background-color:  #ecf7a6;\n",
       "            color:  white;\n",
       "            font-size:  12pt;\n",
       "        }    #T_02d5188a_32e8_11ea_8634_4857dd05d0barow9_col7 {\n",
       "            background-color:  #006837;\n",
       "            color:  white;\n",
       "            font-size:  12pt;\n",
       "        }    #T_02d5188a_32e8_11ea_8634_4857dd05d0barow9_col8 {\n",
       "            background-color:  #abdb6d;\n",
       "            color:  white;\n",
       "            font-size:  12pt;\n",
       "        }    #T_02d5188a_32e8_11ea_8634_4857dd05d0barow9_col9 {\n",
       "            background-color:  #a50026;\n",
       "            color:  white;\n",
       "            font-size:  12pt;\n",
       "        }</style>  \n",
       "<table id=\"T_02d5188a_32e8_11ea_8634_4857dd05d0ba\" > \n",
       "<thead>    <tr> \n",
       "        <th class=\"blank level0\" ></th> \n",
       "        <th class=\"col_heading level0 col0\" >Work</th> \n",
       "        <th class=\"col_heading level0 col1\" >Post_Period</th> \n",
       "        <th class=\"col_heading level0 col2\" >Treatment_Group</th> \n",
       "        <th class=\"col_heading level0 col3\" >Nonwhite</th> \n",
       "        <th class=\"col_heading level0 col4\" >Earn</th> \n",
       "        <th class=\"col_heading level0 col5\" >Age</th> \n",
       "        <th class=\"col_heading level0 col6\" >Ed</th> \n",
       "        <th class=\"col_heading level0 col7\" >Unearn</th> \n",
       "        <th class=\"col_heading level0 col8\" >Urate</th> \n",
       "        <th class=\"col_heading level0 col9\" >Finc</th> \n",
       "    </tr></thead> \n",
       "<tbody>    <tr> \n",
       "        <th id=\"T_02d5188a_32e8_11ea_8634_4857dd05d0balevel0_row0\" class=\"row_heading level0 row0\" >Work</th> \n",
       "        <td id=\"T_02d5188a_32e8_11ea_8634_4857dd05d0barow0_col0\" class=\"data row0 col0\" >nan</td> \n",
       "        <td id=\"T_02d5188a_32e8_11ea_8634_4857dd05d0barow0_col1\" class=\"data row0 col1\" >0.026</td> \n",
       "        <td id=\"T_02d5188a_32e8_11ea_8634_4857dd05d0barow0_col2\" class=\"data row0 col2\" >-0.107</td> \n",
       "        <td id=\"T_02d5188a_32e8_11ea_8634_4857dd05d0barow0_col3\" class=\"data row0 col3\" >-0.075</td> \n",
       "        <td id=\"T_02d5188a_32e8_11ea_8634_4857dd05d0barow0_col4\" class=\"data row0 col4\" >0.34</td> \n",
       "        <td id=\"T_02d5188a_32e8_11ea_8634_4857dd05d0barow0_col5\" class=\"data row0 col5\" >0.052</td> \n",
       "        <td id=\"T_02d5188a_32e8_11ea_8634_4857dd05d0barow0_col6\" class=\"data row0 col6\" >0.084</td> \n",
       "        <td id=\"T_02d5188a_32e8_11ea_8634_4857dd05d0barow0_col7\" class=\"data row0 col7\" >-0.256</td> \n",
       "        <td id=\"T_02d5188a_32e8_11ea_8634_4857dd05d0barow0_col8\" class=\"data row0 col8\" >-0.074</td> \n",
       "        <td id=\"T_02d5188a_32e8_11ea_8634_4857dd05d0barow0_col9\" class=\"data row0 col9\" >0.225</td> \n",
       "    </tr>    <tr> \n",
       "        <th id=\"T_02d5188a_32e8_11ea_8634_4857dd05d0balevel0_row1\" class=\"row_heading level0 row1\" >Post_Period</th> \n",
       "        <td id=\"T_02d5188a_32e8_11ea_8634_4857dd05d0barow1_col0\" class=\"data row1 col0\" >0.026</td> \n",
       "        <td id=\"T_02d5188a_32e8_11ea_8634_4857dd05d0barow1_col1\" class=\"data row1 col1\" >nan</td> \n",
       "        <td id=\"T_02d5188a_32e8_11ea_8634_4857dd05d0barow1_col2\" class=\"data row1 col2\" >-0.011</td> \n",
       "        <td id=\"T_02d5188a_32e8_11ea_8634_4857dd05d0barow1_col3\" class=\"data row1 col3\" >0.047</td> \n",
       "        <td id=\"T_02d5188a_32e8_11ea_8634_4857dd05d0barow1_col4\" class=\"data row1 col4\" >0.025</td> \n",
       "        <td id=\"T_02d5188a_32e8_11ea_8634_4857dd05d0barow1_col5\" class=\"data row1 col5\" >0.017</td> \n",
       "        <td id=\"T_02d5188a_32e8_11ea_8634_4857dd05d0barow1_col6\" class=\"data row1 col6\" >0.007</td> \n",
       "        <td id=\"T_02d5188a_32e8_11ea_8634_4857dd05d0barow1_col7\" class=\"data row1 col7\" >-0.009</td> \n",
       "        <td id=\"T_02d5188a_32e8_11ea_8634_4857dd05d0barow1_col8\" class=\"data row1 col8\" >-0.432</td> \n",
       "        <td id=\"T_02d5188a_32e8_11ea_8634_4857dd05d0barow1_col9\" class=\"data row1 col9\" >0.02</td> \n",
       "    </tr>    <tr> \n",
       "        <th id=\"T_02d5188a_32e8_11ea_8634_4857dd05d0balevel0_row2\" class=\"row_heading level0 row2\" >Treatment_Group</th> \n",
       "        <td id=\"T_02d5188a_32e8_11ea_8634_4857dd05d0barow2_col0\" class=\"data row2 col0\" >-0.107</td> \n",
       "        <td id=\"T_02d5188a_32e8_11ea_8634_4857dd05d0barow2_col1\" class=\"data row2 col1\" >-0.011</td> \n",
       "        <td id=\"T_02d5188a_32e8_11ea_8634_4857dd05d0barow2_col2\" class=\"data row2 col2\" >nan</td> \n",
       "        <td id=\"T_02d5188a_32e8_11ea_8634_4857dd05d0barow2_col3\" class=\"data row2 col3\" >0.151</td> \n",
       "        <td id=\"T_02d5188a_32e8_11ea_8634_4857dd05d0barow2_col4\" class=\"data row2 col4\" >-0.159</td> \n",
       "        <td id=\"T_02d5188a_32e8_11ea_8634_4857dd05d0barow2_col5\" class=\"data row2 col5\" >-0.282</td> \n",
       "        <td id=\"T_02d5188a_32e8_11ea_8634_4857dd05d0barow2_col6\" class=\"data row2 col6\" >0.085</td> \n",
       "        <td id=\"T_02d5188a_32e8_11ea_8634_4857dd05d0barow2_col7\" class=\"data row2 col7\" >0.003</td> \n",
       "        <td id=\"T_02d5188a_32e8_11ea_8634_4857dd05d0barow2_col8\" class=\"data row2 col8\" >0.059</td> \n",
       "        <td id=\"T_02d5188a_32e8_11ea_8634_4857dd05d0barow2_col9\" class=\"data row2 col9\" >-0.148</td> \n",
       "    </tr>    <tr> \n",
       "        <th id=\"T_02d5188a_32e8_11ea_8634_4857dd05d0balevel0_row3\" class=\"row_heading level0 row3\" >Nonwhite</th> \n",
       "        <td id=\"T_02d5188a_32e8_11ea_8634_4857dd05d0barow3_col0\" class=\"data row3 col0\" >-0.075</td> \n",
       "        <td id=\"T_02d5188a_32e8_11ea_8634_4857dd05d0barow3_col1\" class=\"data row3 col1\" >0.047</td> \n",
       "        <td id=\"T_02d5188a_32e8_11ea_8634_4857dd05d0barow3_col2\" class=\"data row3 col2\" >0.151</td> \n",
       "        <td id=\"T_02d5188a_32e8_11ea_8634_4857dd05d0barow3_col3\" class=\"data row3 col3\" >nan</td> \n",
       "        <td id=\"T_02d5188a_32e8_11ea_8634_4857dd05d0barow3_col4\" class=\"data row3 col4\" >-0.055</td> \n",
       "        <td id=\"T_02d5188a_32e8_11ea_8634_4857dd05d0barow3_col5\" class=\"data row3 col5\" >-0.004</td> \n",
       "        <td id=\"T_02d5188a_32e8_11ea_8634_4857dd05d0barow3_col6\" class=\"data row3 col6\" >-0.094</td> \n",
       "        <td id=\"T_02d5188a_32e8_11ea_8634_4857dd05d0barow3_col7\" class=\"data row3 col7\" >-0.058</td> \n",
       "        <td id=\"T_02d5188a_32e8_11ea_8634_4857dd05d0barow3_col8\" class=\"data row3 col8\" >0.2</td> \n",
       "        <td id=\"T_02d5188a_32e8_11ea_8634_4857dd05d0barow3_col9\" class=\"data row3 col9\" >-0.072</td> \n",
       "    </tr>    <tr> \n",
       "        <th id=\"T_02d5188a_32e8_11ea_8634_4857dd05d0balevel0_row4\" class=\"row_heading level0 row4\" >Earn</th> \n",
       "        <td id=\"T_02d5188a_32e8_11ea_8634_4857dd05d0barow4_col0\" class=\"data row4 col0\" >0.34</td> \n",
       "        <td id=\"T_02d5188a_32e8_11ea_8634_4857dd05d0barow4_col1\" class=\"data row4 col1\" >0.025</td> \n",
       "        <td id=\"T_02d5188a_32e8_11ea_8634_4857dd05d0barow4_col2\" class=\"data row4 col2\" >-0.159</td> \n",
       "        <td id=\"T_02d5188a_32e8_11ea_8634_4857dd05d0barow4_col3\" class=\"data row4 col3\" >-0.055</td> \n",
       "        <td id=\"T_02d5188a_32e8_11ea_8634_4857dd05d0barow4_col4\" class=\"data row4 col4\" >nan</td> \n",
       "        <td id=\"T_02d5188a_32e8_11ea_8634_4857dd05d0barow4_col5\" class=\"data row4 col5\" >0.054</td> \n",
       "        <td id=\"T_02d5188a_32e8_11ea_8634_4857dd05d0barow4_col6\" class=\"data row4 col6\" >-0.003</td> \n",
       "        <td id=\"T_02d5188a_32e8_11ea_8634_4857dd05d0barow4_col7\" class=\"data row4 col7\" >-0.015</td> \n",
       "        <td id=\"T_02d5188a_32e8_11ea_8634_4857dd05d0barow4_col8\" class=\"data row4 col8\" >-0.01</td> \n",
       "        <td id=\"T_02d5188a_32e8_11ea_8634_4857dd05d0barow4_col9\" class=\"data row4 col9\" >0.931</td> \n",
       "    </tr>    <tr> \n",
       "        <th id=\"T_02d5188a_32e8_11ea_8634_4857dd05d0balevel0_row5\" class=\"row_heading level0 row5\" >Age</th> \n",
       "        <td id=\"T_02d5188a_32e8_11ea_8634_4857dd05d0barow5_col0\" class=\"data row5 col0\" >0.052</td> \n",
       "        <td id=\"T_02d5188a_32e8_11ea_8634_4857dd05d0barow5_col1\" class=\"data row5 col1\" >0.017</td> \n",
       "        <td id=\"T_02d5188a_32e8_11ea_8634_4857dd05d0barow5_col2\" class=\"data row5 col2\" >-0.282</td> \n",
       "        <td id=\"T_02d5188a_32e8_11ea_8634_4857dd05d0barow5_col3\" class=\"data row5 col3\" >-0.004</td> \n",
       "        <td id=\"T_02d5188a_32e8_11ea_8634_4857dd05d0barow5_col4\" class=\"data row5 col4\" >0.054</td> \n",
       "        <td id=\"T_02d5188a_32e8_11ea_8634_4857dd05d0barow5_col5\" class=\"data row5 col5\" >nan</td> \n",
       "        <td id=\"T_02d5188a_32e8_11ea_8634_4857dd05d0barow5_col6\" class=\"data row5 col6\" >-0.171</td> \n",
       "        <td id=\"T_02d5188a_32e8_11ea_8634_4857dd05d0barow5_col7\" class=\"data row5 col7\" >0.08</td> \n",
       "        <td id=\"T_02d5188a_32e8_11ea_8634_4857dd05d0barow5_col8\" class=\"data row5 col8\" >-0.03</td> \n",
       "        <td id=\"T_02d5188a_32e8_11ea_8634_4857dd05d0barow5_col9\" class=\"data row5 col9\" >0.079</td> \n",
       "    </tr>    <tr> \n",
       "        <th id=\"T_02d5188a_32e8_11ea_8634_4857dd05d0balevel0_row6\" class=\"row_heading level0 row6\" >Ed</th> \n",
       "        <td id=\"T_02d5188a_32e8_11ea_8634_4857dd05d0barow6_col0\" class=\"data row6 col0\" >0.084</td> \n",
       "        <td id=\"T_02d5188a_32e8_11ea_8634_4857dd05d0barow6_col1\" class=\"data row6 col1\" >0.007</td> \n",
       "        <td id=\"T_02d5188a_32e8_11ea_8634_4857dd05d0barow6_col2\" class=\"data row6 col2\" >0.085</td> \n",
       "        <td id=\"T_02d5188a_32e8_11ea_8634_4857dd05d0barow6_col3\" class=\"data row6 col3\" >-0.094</td> \n",
       "        <td id=\"T_02d5188a_32e8_11ea_8634_4857dd05d0barow6_col4\" class=\"data row6 col4\" >-0.003</td> \n",
       "        <td id=\"T_02d5188a_32e8_11ea_8634_4857dd05d0barow6_col5\" class=\"data row6 col5\" >-0.171</td> \n",
       "        <td id=\"T_02d5188a_32e8_11ea_8634_4857dd05d0barow6_col6\" class=\"data row6 col6\" >nan</td> \n",
       "        <td id=\"T_02d5188a_32e8_11ea_8634_4857dd05d0barow6_col7\" class=\"data row6 col7\" >-0.078</td> \n",
       "        <td id=\"T_02d5188a_32e8_11ea_8634_4857dd05d0barow6_col8\" class=\"data row6 col8\" >-0.096</td> \n",
       "        <td id=\"T_02d5188a_32e8_11ea_8634_4857dd05d0barow6_col9\" class=\"data row6 col9\" >-0.031</td> \n",
       "    </tr>    <tr> \n",
       "        <th id=\"T_02d5188a_32e8_11ea_8634_4857dd05d0balevel0_row7\" class=\"row_heading level0 row7\" >Unearn</th> \n",
       "        <td id=\"T_02d5188a_32e8_11ea_8634_4857dd05d0barow7_col0\" class=\"data row7 col0\" >-0.256</td> \n",
       "        <td id=\"T_02d5188a_32e8_11ea_8634_4857dd05d0barow7_col1\" class=\"data row7 col1\" >-0.009</td> \n",
       "        <td id=\"T_02d5188a_32e8_11ea_8634_4857dd05d0barow7_col2\" class=\"data row7 col2\" >0.003</td> \n",
       "        <td id=\"T_02d5188a_32e8_11ea_8634_4857dd05d0barow7_col3\" class=\"data row7 col3\" >-0.058</td> \n",
       "        <td id=\"T_02d5188a_32e8_11ea_8634_4857dd05d0barow7_col4\" class=\"data row7 col4\" >-0.015</td> \n",
       "        <td id=\"T_02d5188a_32e8_11ea_8634_4857dd05d0barow7_col5\" class=\"data row7 col5\" >0.08</td> \n",
       "        <td id=\"T_02d5188a_32e8_11ea_8634_4857dd05d0barow7_col6\" class=\"data row7 col6\" >-0.078</td> \n",
       "        <td id=\"T_02d5188a_32e8_11ea_8634_4857dd05d0barow7_col7\" class=\"data row7 col7\" >nan</td> \n",
       "        <td id=\"T_02d5188a_32e8_11ea_8634_4857dd05d0barow7_col8\" class=\"data row7 col8\" >0.036</td> \n",
       "        <td id=\"T_02d5188a_32e8_11ea_8634_4857dd05d0barow7_col9\" class=\"data row7 col9\" >0.352</td> \n",
       "    </tr>    <tr> \n",
       "        <th id=\"T_02d5188a_32e8_11ea_8634_4857dd05d0balevel0_row8\" class=\"row_heading level0 row8\" >Urate</th> \n",
       "        <td id=\"T_02d5188a_32e8_11ea_8634_4857dd05d0barow8_col0\" class=\"data row8 col0\" >-0.074</td> \n",
       "        <td id=\"T_02d5188a_32e8_11ea_8634_4857dd05d0barow8_col1\" class=\"data row8 col1\" >-0.432</td> \n",
       "        <td id=\"T_02d5188a_32e8_11ea_8634_4857dd05d0barow8_col2\" class=\"data row8 col2\" >0.059</td> \n",
       "        <td id=\"T_02d5188a_32e8_11ea_8634_4857dd05d0barow8_col3\" class=\"data row8 col3\" >0.2</td> \n",
       "        <td id=\"T_02d5188a_32e8_11ea_8634_4857dd05d0barow8_col4\" class=\"data row8 col4\" >-0.01</td> \n",
       "        <td id=\"T_02d5188a_32e8_11ea_8634_4857dd05d0barow8_col5\" class=\"data row8 col5\" >-0.03</td> \n",
       "        <td id=\"T_02d5188a_32e8_11ea_8634_4857dd05d0barow8_col6\" class=\"data row8 col6\" >-0.096</td> \n",
       "        <td id=\"T_02d5188a_32e8_11ea_8634_4857dd05d0barow8_col7\" class=\"data row8 col7\" >0.036</td> \n",
       "        <td id=\"T_02d5188a_32e8_11ea_8634_4857dd05d0barow8_col8\" class=\"data row8 col8\" >nan</td> \n",
       "        <td id=\"T_02d5188a_32e8_11ea_8634_4857dd05d0barow8_col9\" class=\"data row8 col9\" >0.004</td> \n",
       "    </tr>    <tr> \n",
       "        <th id=\"T_02d5188a_32e8_11ea_8634_4857dd05d0balevel0_row9\" class=\"row_heading level0 row9\" >Finc</th> \n",
       "        <td id=\"T_02d5188a_32e8_11ea_8634_4857dd05d0barow9_col0\" class=\"data row9 col0\" >0.225</td> \n",
       "        <td id=\"T_02d5188a_32e8_11ea_8634_4857dd05d0barow9_col1\" class=\"data row9 col1\" >0.02</td> \n",
       "        <td id=\"T_02d5188a_32e8_11ea_8634_4857dd05d0barow9_col2\" class=\"data row9 col2\" >-0.148</td> \n",
       "        <td id=\"T_02d5188a_32e8_11ea_8634_4857dd05d0barow9_col3\" class=\"data row9 col3\" >-0.072</td> \n",
       "        <td id=\"T_02d5188a_32e8_11ea_8634_4857dd05d0barow9_col4\" class=\"data row9 col4\" >0.931</td> \n",
       "        <td id=\"T_02d5188a_32e8_11ea_8634_4857dd05d0barow9_col5\" class=\"data row9 col5\" >0.079</td> \n",
       "        <td id=\"T_02d5188a_32e8_11ea_8634_4857dd05d0barow9_col6\" class=\"data row9 col6\" >-0.031</td> \n",
       "        <td id=\"T_02d5188a_32e8_11ea_8634_4857dd05d0barow9_col7\" class=\"data row9 col7\" >0.352</td> \n",
       "        <td id=\"T_02d5188a_32e8_11ea_8634_4857dd05d0barow9_col8\" class=\"data row9 col8\" >0.004</td> \n",
       "        <td id=\"T_02d5188a_32e8_11ea_8634_4857dd05d0barow9_col9\" class=\"data row9 col9\" >nan</td> \n",
       "    </tr></tbody> \n",
       "</table> "
      ],
      "text/plain": [
       "<pandas.io.formats.style.Styler at 0x7f6bc9b8dcd0>"
      ]
     },
     "execution_count": 20,
     "metadata": {
      "bento_obj_id": "140100922563792"
     },
     "output_type": "execute_result"
    }
   ],
   "source": [
    "np.round(df[['Work', 'Post_Period', 'Treatment_Group', 'Nonwhite', 'Earn', 'Age', 'Ed', 'Unearn', 'Urate', 'Finc']].corr(), 3).\\\n",
    "    replace(to_replace = 1, value = np.nan).style.background_gradient(cmap='RdYlGn').set_properties(**{'color': 'white', 'font-size': '12pt'})"
   ]
  },
  {
   "cell_type": "markdown",
   "metadata": {},
   "source": [
    "We will use all besides `Finc` as it is higly correlated with `Earn`"
   ]
  },
  {
   "cell_type": "code",
   "execution_count": 21,
   "metadata": {
    "collapsed": true
   },
   "outputs": [],
   "source": [
    "tmp = df[['Work', 'Post_Period', 'Treatment_Group', 'Nonwhite', 'Earn', 'Age', 'Ed', 'Unearn', 'Urate']].copy()\n",
    "tmp['Interaction'] = tmp['Post_Period'] * tmp['Treatment_Group'] # this is the group we are interested in, i.e. After treatment date and the treatment group"
   ]
  },
  {
   "cell_type": "code",
   "execution_count": 22,
   "metadata": {},
   "outputs": [
    {
     "data": {
      "text/html": [
       "<table class=\"simpletable\">\n",
       "<caption>OLS Regression Results</caption>\n",
       "<tr>\n",
       "  <th>Dep. Variable:</th>          <td>Work</td>       <th>  R-squared:         </th> <td>   0.195</td> \n",
       "</tr>\n",
       "<tr>\n",
       "  <th>Model:</th>                   <td>OLS</td>       <th>  Adj. R-squared:    </th> <td>   0.194</td> \n",
       "</tr>\n",
       "<tr>\n",
       "  <th>Method:</th>             <td>Least Squares</td>  <th>  F-statistic:       </th> <td>   369.3</td> \n",
       "</tr>\n",
       "<tr>\n",
       "  <th>Date:</th>             <td>Thu, 09 Jan 2020</td> <th>  Prob (F-statistic):</th>  <td>  0.00</td>  \n",
       "</tr>\n",
       "<tr>\n",
       "  <th>Time:</th>                 <td>05:57:45</td>     <th>  Log-Likelihood:    </th> <td> -8482.8</td> \n",
       "</tr>\n",
       "<tr>\n",
       "  <th>No. Observations:</th>      <td> 13746</td>      <th>  AIC:               </th> <td>1.699e+04</td>\n",
       "</tr>\n",
       "<tr>\n",
       "  <th>Df Residuals:</th>          <td> 13736</td>      <th>  BIC:               </th> <td>1.706e+04</td>\n",
       "</tr>\n",
       "<tr>\n",
       "  <th>Df Model:</th>              <td>     9</td>      <th>                     </th>     <td> </td>    \n",
       "</tr>\n",
       "<tr>\n",
       "  <th>Covariance Type:</th>      <td>nonrobust</td>    <th>                     </th>     <td> </td>    \n",
       "</tr>\n",
       "</table>\n",
       "<table class=\"simpletable\">\n",
       "<tr>\n",
       "         <td></td>            <th>coef</th>     <th>std err</th>      <th>t</th>      <th>P>|t|</th>  <th>[0.025</th>    <th>0.975]</th>  \n",
       "</tr>\n",
       "<tr>\n",
       "  <th>const</th>           <td>    0.4542</td> <td>    0.032</td> <td>   13.996</td> <td> 0.000</td> <td>    0.391</td> <td>    0.518</td>\n",
       "</tr>\n",
       "<tr>\n",
       "  <th>Post_Period</th>     <td>   -0.0253</td> <td>    0.012</td> <td>   -2.054</td> <td> 0.040</td> <td>   -0.049</td> <td>   -0.001</td>\n",
       "</tr>\n",
       "<tr>\n",
       "  <th>Treatment_Group</th> <td>   -0.0535</td> <td>    0.011</td> <td>   -4.889</td> <td> 0.000</td> <td>   -0.075</td> <td>   -0.032</td>\n",
       "</tr>\n",
       "<tr>\n",
       "  <th>Nonwhite</th>        <td>   -0.0533</td> <td>    0.008</td> <td>   -6.486</td> <td> 0.000</td> <td>   -0.069</td> <td>   -0.037</td>\n",
       "</tr>\n",
       "<tr>\n",
       "  <th>Earn</th>            <td>  8.91e-06</td> <td> 2.13e-07</td> <td>   41.772</td> <td> 0.000</td> <td> 8.49e-06</td> <td> 9.33e-06</td>\n",
       "</tr>\n",
       "<tr>\n",
       "  <th>Age</th>             <td>    0.0027</td> <td>    0.000</td> <td>    6.878</td> <td> 0.000</td> <td>    0.002</td> <td>    0.004</td>\n",
       "</tr>\n",
       "<tr>\n",
       "  <th>Ed</th>              <td>    0.0131</td> <td>    0.001</td> <td>    8.796</td> <td> 0.000</td> <td>    0.010</td> <td>    0.016</td>\n",
       "</tr>\n",
       "<tr>\n",
       "  <th>Unearn</th>          <td>   -0.0177</td> <td>    0.001</td> <td>  -32.594</td> <td> 0.000</td> <td>   -0.019</td> <td>   -0.017</td>\n",
       "</tr>\n",
       "<tr>\n",
       "  <th>Urate</th>           <td>   -0.0144</td> <td>    0.003</td> <td>   -4.787</td> <td> 0.000</td> <td>   -0.020</td> <td>   -0.009</td>\n",
       "</tr>\n",
       "<tr>\n",
       "  <th>Interaction</th>     <td>    0.0401</td> <td>    0.016</td> <td>    2.588</td> <td> 0.010</td> <td>    0.010</td> <td>    0.071</td>\n",
       "</tr>\n",
       "</table>\n",
       "<table class=\"simpletable\">\n",
       "<tr>\n",
       "  <th>Omnibus:</th>       <td>49.288</td> <th>  Durbin-Watson:     </th> <td>   1.991</td>\n",
       "</tr>\n",
       "<tr>\n",
       "  <th>Prob(Omnibus):</th> <td> 0.000</td> <th>  Jarque-Bera (JB):  </th> <td>  49.765</td>\n",
       "</tr>\n",
       "<tr>\n",
       "  <th>Skew:</th>          <td>-0.146</td> <th>  Prob(JB):          </th> <td>1.56e-11</td>\n",
       "</tr>\n",
       "<tr>\n",
       "  <th>Kurtosis:</th>      <td> 2.959</td> <th>  Cond. No.          </th> <td>1.82e+05</td>\n",
       "</tr>\n",
       "</table><br/><br/>Warnings:<br/>[1] Standard Errors assume that the covariance matrix of the errors is correctly specified.<br/>[2] The condition number is large, 1.82e+05. This might indicate that there are<br/>strong multicollinearity or other numerical problems."
      ],
      "text/plain": [
       "<class 'statsmodels.iolib.summary.Summary'>\n",
       "\"\"\"\n",
       "                            OLS Regression Results                            \n",
       "==============================================================================\n",
       "Dep. Variable:                   Work   R-squared:                       0.195\n",
       "Model:                            OLS   Adj. R-squared:                  0.194\n",
       "Method:                 Least Squares   F-statistic:                     369.3\n",
       "Date:                Thu, 09 Jan 2020   Prob (F-statistic):               0.00\n",
       "Time:                        05:57:45   Log-Likelihood:                -8482.8\n",
       "No. Observations:               13746   AIC:                         1.699e+04\n",
       "Df Residuals:                   13736   BIC:                         1.706e+04\n",
       "Df Model:                           9                                         \n",
       "Covariance Type:            nonrobust                                         \n",
       "===================================================================================\n",
       "                      coef    std err          t      P>|t|      [0.025      0.975]\n",
       "-----------------------------------------------------------------------------------\n",
       "const               0.4542      0.032     13.996      0.000       0.391       0.518\n",
       "Post_Period        -0.0253      0.012     -2.054      0.040      -0.049      -0.001\n",
       "Treatment_Group    -0.0535      0.011     -4.889      0.000      -0.075      -0.032\n",
       "Nonwhite           -0.0533      0.008     -6.486      0.000      -0.069      -0.037\n",
       "Earn              8.91e-06   2.13e-07     41.772      0.000    8.49e-06    9.33e-06\n",
       "Age                 0.0027      0.000      6.878      0.000       0.002       0.004\n",
       "Ed                  0.0131      0.001      8.796      0.000       0.010       0.016\n",
       "Unearn             -0.0177      0.001    -32.594      0.000      -0.019      -0.017\n",
       "Urate              -0.0144      0.003     -4.787      0.000      -0.020      -0.009\n",
       "Interaction         0.0401      0.016      2.588      0.010       0.010       0.071\n",
       "==============================================================================\n",
       "Omnibus:                       49.288   Durbin-Watson:                   1.991\n",
       "Prob(Omnibus):                  0.000   Jarque-Bera (JB):               49.765\n",
       "Skew:                          -0.146   Prob(JB):                     1.56e-11\n",
       "Kurtosis:                       2.959   Cond. No.                     1.82e+05\n",
       "==============================================================================\n",
       "\n",
       "Warnings:\n",
       "[1] Standard Errors assume that the covariance matrix of the errors is correctly specified.\n",
       "[2] The condition number is large, 1.82e+05. This might indicate that there are\n",
       "strong multicollinearity or other numerical problems.\n",
       "\"\"\""
      ]
     },
     "execution_count": 22,
     "metadata": {
      "bento_obj_id": "140100841745552"
     },
     "output_type": "execute_result"
    }
   ],
   "source": [
    "# With linear regression\n",
    "X = tmp[['Post_Period', 'Treatment_Group', 'Nonwhite', 'Earn', 'Age', 'Ed', 'Unearn', 'Urate', 'Interaction']]\n",
    "X = sm.add_constant(X)\n",
    "\n",
    "y = tmp['Work']\n",
    "\n",
    "# Note the difference in argument order\n",
    "model = sm.OLS(y, X).fit()\n",
    "\n",
    "# Print out the statistics\n",
    "model.summary()"
   ]
  },
  {
   "cell_type": "markdown",
   "metadata": {},
   "source": [
    "So the true lift is 0.0401 or <b>4.01%</b> (as seen from the beta coefficient in the regression results above). Notice also that `P value < 0.05` hence statistically significant"
   ]
  },
  {
   "cell_type": "code",
   "execution_count": 23,
   "metadata": {},
   "outputs": [
    {
     "data": {
      "text/plain": [
       "0.040134574661621195"
      ]
     },
     "execution_count": 23,
     "metadata": {
      "bento_obj_id": "140100855443344"
     },
     "output_type": "execute_result"
    }
   ],
   "source": [
    "model.params['Interaction']"
   ]
  },
  {
   "cell_type": "code",
   "execution_count": 24,
   "metadata": {},
   "outputs": [
    {
     "data": {
      "image/png": "[encoded data removed]",
      "text/plain": [
       "<Figure size 576x432 with 1 Axes>"
      ]
     },
     "metadata": {
      "bento_obj_id": "140100861005904"
     },
     "output_type": "display_data"
    }
   ],
   "source": [
    "coeff = model.params['Interaction'] * 100\n",
    "lower = model.conf_int().loc[\"Interaction\"][0]*100\n",
    "upper = model.conf_int().loc[\"Interaction\"][1]*100\n",
    "\n",
    "\n",
    "ax = pd.DataFrame({'Diff in Diff':[coeff]}, index=['DID']).plot(kind='bar', \n",
    "            yerr=[[coeff - lower]], \n",
    "            width=0.3, error_kw=dict(elinewidth=5,ecolor='darkblue'), \n",
    "            title='Diff in Diff @ 95% confidence\\n', figsize=(8,6))\n",
    "\n",
    "ax.annotate(f'{round(coeff, 1)}%', (0.01, round(coeff, 1)-0.5), size=16,  weight='bold', color='white')\n",
    "ax.annotate(f'{round(lower, 1)}%', (0.01, round(lower, 1)), size=16,  weight='bold', color='darkblue')\n",
    "ax.annotate(f'{round(upper, 1)}%', (0.01, round(upper-0.5, 1)), size=16,  weight='bold', color='darkblue');"
   ]
  },
  {
   "cell_type": "markdown",
   "metadata": {},
   "source": [
    "### Placebo"
   ]
  },
  {
   "cell_type": "markdown",
   "metadata": {},
   "source": [
    "Besides the p value, we need to run a placebo test to further verify that we can trust our results. What we want with the placebo is to find <b>No significance </b>in the new Interation variable that we are going to create"
   ]
  },
  {
   "cell_type": "markdown",
   "metadata": {},
   "source": [
    "<b>How</b>: Arbitrarily choose a treatment time before your actual treatment time, and test to see if you get a significant treatment effect."
   ]
  },
  {
   "cell_type": "code",
   "execution_count": 25,
   "metadata": {
    "collapsed": true
   },
   "outputs": [],
   "source": [
    "# sub set the data, including only years before the intervention date (1994).\n",
    "df_sub = df[df['Year'] <= 1993].copy()"
   ]
  },
  {
   "cell_type": "code",
   "execution_count": 26,
   "metadata": {
    "collapsed": true
   },
   "outputs": [],
   "source": [
    "# Create a new intervention date say 1992\n",
    "df_sub['Post_Period'] = np.select([df_sub['Year']>=1992], [1], default=0)"
   ]
  },
  {
   "cell_type": "code",
   "execution_count": 27,
   "metadata": {
    "collapsed": true
   },
   "outputs": [],
   "source": [
    "tmp = df_sub[['Work', 'Post_Period', 'Treatment_Group']].copy()\n",
    "tmp['Interaction'] = tmp['Post_Period'] * tmp['Treatment_Group']"
   ]
  },
  {
   "cell_type": "code",
   "execution_count": 28,
   "metadata": {
    "collapsed": true
   },
   "outputs": [],
   "source": [
    "df_effect = tmp.groupby(['Treatment_Group', 'Post_Period'])[['Work']].mean().unstack(level=0)\n",
    "df_effect.columns = ['Control', 'Treatment']\n",
    "df_effect.index  = ['Pre', 'Post']"
   ]
  },
  {
   "cell_type": "code",
   "execution_count": 29,
   "metadata": {
    "collapsed": true
   },
   "outputs": [],
   "source": [
    "df_effect['diff'] = df_effect['Treatment'] - df_effect['Control']"
   ]
  },
  {
   "cell_type": "code",
   "execution_count": 30,
   "metadata": {},
   "outputs": [
    {
     "data": {
      "application/vnd.dataresource+json": {
       "data": [
        {
         "Control": 0.583032491,
         "Treatment": 0.4600532623,
         "diff": -0.1229792287,
         "index": "Pre"
        },
        {
         "Control": 0.5713587488,
         "Treatment": 0.4382513661,
         "diff": -0.1331073827,
         "index": "Post"
        }
       ],
       "schema": {
        "fields": [
         {
          "name": "index",
          "type": "string"
         },
         {
          "name": "Control",
          "type": "number"
         },
         {
          "name": "Treatment",
          "type": "number"
         },
         {
          "name": "diff",
          "type": "number"
         }
        ],
        "pandas_version": "0.20.0",
        "primaryKey": [
         "index"
        ]
       }
      },
      "text/html": [
       "<div>\n",
       "<style scoped>\n",
       "    .dataframe tbody tr th:only-of-type {\n",
       "        vertical-align: middle;\n",
       "    }\n",
       "\n",
       "    .dataframe tbody tr th {\n",
       "        vertical-align: top;\n",
       "    }\n",
       "\n",
       "    .dataframe thead th {\n",
       "        text-align: right;\n",
       "    }\n",
       "</style>\n",
       "<table border=\"1\" class=\"dataframe\">\n",
       "  <thead>\n",
       "    <tr style=\"text-align: right;\">\n",
       "      <th></th>\n",
       "      <th>Control</th>\n",
       "      <th>Treatment</th>\n",
       "      <th>diff</th>\n",
       "    </tr>\n",
       "  </thead>\n",
       "  <tbody>\n",
       "    <tr>\n",
       "      <th>Pre</th>\n",
       "      <td>0.583032</td>\n",
       "      <td>0.460053</td>\n",
       "      <td>-0.122979</td>\n",
       "    </tr>\n",
       "    <tr>\n",
       "      <th>Post</th>\n",
       "      <td>0.571359</td>\n",
       "      <td>0.438251</td>\n",
       "      <td>-0.133107</td>\n",
       "    </tr>\n",
       "  </tbody>\n",
       "</table>\n",
       "</div>"
      ],
      "text/plain": [
       "       Control  Treatment      diff\n",
       "Pre   0.583032   0.460053 -0.122979\n",
       "Post  0.571359   0.438251 -0.133107"
      ]
     },
     "execution_count": 30,
     "metadata": {
      "bento_obj_id": "140100826426256"
     },
     "output_type": "execute_result"
    }
   ],
   "source": [
    "df_effect"
   ]
  },
  {
   "cell_type": "code",
   "execution_count": 31,
   "metadata": {
    "collapsed": true
   },
   "outputs": [],
   "source": [
    "did_placebo = df_effect.loc[df_effect.index=='Post', 'diff'][0] - df_effect.loc[df_effect.index=='Pre', 'diff'][0] # did: diff in diff"
   ]
  },
  {
   "cell_type": "code",
   "execution_count": 32,
   "metadata": {},
   "outputs": [
    {
     "data": {
      "text/plain": [
       "-0.01012815400006667"
      ]
     },
     "execution_count": 32,
     "metadata": {
      "bento_obj_id": "140100826462800"
     },
     "output_type": "execute_result"
    }
   ],
   "source": [
    "did_placebo # close to zero"
   ]
  },
  {
   "cell_type": "code",
   "execution_count": 33,
   "metadata": {},
   "outputs": [
    {
     "data": {
      "text/html": [
       "<table class=\"simpletable\">\n",
       "<caption>OLS Regression Results</caption>\n",
       "<tr>\n",
       "  <th>Dep. Variable:</th>          <td>Work</td>       <th>  R-squared:         </th> <td>   0.017</td> \n",
       "</tr>\n",
       "<tr>\n",
       "  <th>Model:</th>                   <td>OLS</td>       <th>  Adj. R-squared:    </th> <td>   0.016</td> \n",
       "</tr>\n",
       "<tr>\n",
       "  <th>Method:</th>             <td>Least Squares</td>  <th>  F-statistic:       </th> <td>   41.89</td> \n",
       "</tr>\n",
       "<tr>\n",
       "  <th>Date:</th>             <td>Thu, 09 Jan 2020</td> <th>  Prob (F-statistic):</th> <td>7.77e-27</td> \n",
       "</tr>\n",
       "<tr>\n",
       "  <th>Time:</th>                 <td>05:57:45</td>     <th>  Log-Likelihood:    </th> <td> -5309.2</td> \n",
       "</tr>\n",
       "<tr>\n",
       "  <th>No. Observations:</th>      <td>  7401</td>      <th>  AIC:               </th> <td>1.063e+04</td>\n",
       "</tr>\n",
       "<tr>\n",
       "  <th>Df Residuals:</th>          <td>  7397</td>      <th>  BIC:               </th> <td>1.065e+04</td>\n",
       "</tr>\n",
       "<tr>\n",
       "  <th>Df Model:</th>              <td>     3</td>      <th>                     </th>     <td> </td>    \n",
       "</tr>\n",
       "<tr>\n",
       "  <th>Covariance Type:</th>      <td>nonrobust</td>    <th>                     </th>     <td> </td>    \n",
       "</tr>\n",
       "</table>\n",
       "<table class=\"simpletable\">\n",
       "<tr>\n",
       "         <td></td>            <th>coef</th>     <th>std err</th>      <th>t</th>      <th>P>|t|</th>  <th>[0.025</th>    <th>0.975]</th>  \n",
       "</tr>\n",
       "<tr>\n",
       "  <th>const</th>           <td>    0.5830</td> <td>    0.015</td> <td>   39.132</td> <td> 0.000</td> <td>    0.554</td> <td>    0.612</td>\n",
       "</tr>\n",
       "<tr>\n",
       "  <th>Post_Period</th>     <td>   -0.0117</td> <td>    0.018</td> <td>   -0.631</td> <td> 0.528</td> <td>   -0.048</td> <td>    0.025</td>\n",
       "</tr>\n",
       "<tr>\n",
       "  <th>Treatment_Group</th> <td>   -0.1230</td> <td>    0.020</td> <td>   -6.262</td> <td> 0.000</td> <td>   -0.161</td> <td>   -0.084</td>\n",
       "</tr>\n",
       "<tr>\n",
       "  <th>Interaction</th>     <td>   -0.0101</td> <td>    0.024</td> <td>   -0.415</td> <td> 0.678</td> <td>   -0.058</td> <td>    0.038</td>\n",
       "</tr>\n",
       "</table>\n",
       "<table class=\"simpletable\">\n",
       "<tr>\n",
       "  <th>Omnibus:</th>       <td> 0.013</td> <th>  Durbin-Watson:     </th> <td>   1.960</td> \n",
       "</tr>\n",
       "<tr>\n",
       "  <th>Prob(Omnibus):</th> <td> 0.993</td> <th>  Jarque-Bera (JB):  </th> <td>1151.244</td> \n",
       "</tr>\n",
       "<tr>\n",
       "  <th>Skew:</th>          <td>-0.003</td> <th>  Prob(JB):          </th> <td>1.02e-250</td>\n",
       "</tr>\n",
       "<tr>\n",
       "  <th>Kurtosis:</th>      <td> 1.068</td> <th>  Cond. No.          </th> <td>    8.86</td> \n",
       "</tr>\n",
       "</table><br/><br/>Warnings:<br/>[1] Standard Errors assume that the covariance matrix of the errors is correctly specified."
      ],
      "text/plain": [
       "<class 'statsmodels.iolib.summary.Summary'>\n",
       "\"\"\"\n",
       "                            OLS Regression Results                            \n",
       "==============================================================================\n",
       "Dep. Variable:                   Work   R-squared:                       0.017\n",
       "Model:                            OLS   Adj. R-squared:                  0.016\n",
       "Method:                 Least Squares   F-statistic:                     41.89\n",
       "Date:                Thu, 09 Jan 2020   Prob (F-statistic):           7.77e-27\n",
       "Time:                        05:57:45   Log-Likelihood:                -5309.2\n",
       "No. Observations:                7401   AIC:                         1.063e+04\n",
       "Df Residuals:                    7397   BIC:                         1.065e+04\n",
       "Df Model:                           3                                         \n",
       "Covariance Type:            nonrobust                                         \n",
       "===================================================================================\n",
       "                      coef    std err          t      P>|t|      [0.025      0.975]\n",
       "-----------------------------------------------------------------------------------\n",
       "const               0.5830      0.015     39.132      0.000       0.554       0.612\n",
       "Post_Period        -0.0117      0.018     -0.631      0.528      -0.048       0.025\n",
       "Treatment_Group    -0.1230      0.020     -6.262      0.000      -0.161      -0.084\n",
       "Interaction        -0.0101      0.024     -0.415      0.678      -0.058       0.038\n",
       "==============================================================================\n",
       "Omnibus:                        0.013   Durbin-Watson:                   1.960\n",
       "Prob(Omnibus):                  0.993   Jarque-Bera (JB):             1151.244\n",
       "Skew:                          -0.003   Prob(JB):                    1.02e-250\n",
       "Kurtosis:                       1.068   Cond. No.                         8.86\n",
       "==============================================================================\n",
       "\n",
       "Warnings:\n",
       "[1] Standard Errors assume that the covariance matrix of the errors is correctly specified.\n",
       "\"\"\""
      ]
     },
     "execution_count": 33,
     "metadata": {
      "bento_obj_id": "140100826525136"
     },
     "output_type": "execute_result"
    }
   ],
   "source": [
    "X = tmp[['Post_Period', 'Treatment_Group', 'Interaction']]\n",
    "X = sm.add_constant(X)\n",
    "\n",
    "y = tmp['Work']\n",
    "\n",
    "# Note the difference in argument order\n",
    "model = sm.OLS(y, X).fit()\n",
    "\n",
    "# Print out the statistics\n",
    "model.summary()"
   ]
  },
  {
   "cell_type": "markdown",
   "metadata": {},
   "source": [
    "We see that the interaction term is insignificant `p value > 0.05`. So we can trust our initial findings of a significant difference"
   ]
  },
  {
   "cell_type": "code",
   "execution_count": 34,
   "metadata": {},
   "outputs": [
    {
     "data": {
      "image/png": "[encoded data removed]",
      "text/plain": [
       "<Figure size 576x432 with 1 Axes>"
      ]
     },
     "metadata": {
      "bento_obj_id": "140100826038800"
     },
     "output_type": "display_data"
    }
   ],
   "source": [
    "coeff = model.params['Interaction'] * 100\n",
    "lower = model.conf_int().loc[\"Interaction\"][0]*100\n",
    "upper = model.conf_int().loc[\"Interaction\"][1]*100\n",
    "\n",
    "\n",
    "ax = pd.DataFrame({'Diff in Diff':[coeff]}, index=['DID']).plot(kind='bar', \n",
    "            yerr=[[coeff - lower]], \n",
    "            width=0.3, error_kw=dict(elinewidth=5,ecolor='darkblue'), \n",
    "            title='Diff in Diff @ 95% confidence\\n', figsize=(8,6))\n",
    "\n",
    "ax.annotate(f'{round(coeff, 1)}%', (0.01, round(coeff+0.1, 1)), size=16,  weight='bold', color='white')\n",
    "ax.annotate(f'{round(lower, 1)}%', (0.01, round(lower, 1)), size=16,  weight='bold', color='darkblue')\n",
    "ax.annotate(f'{round(upper, 1)}%', (0.01, round(upper-0.5, 1)), size=16,  weight='bold', color='darkblue');"
   ]
  },
  {
   "cell_type": "markdown",
   "metadata": {},
   "source": [
    "### Placebo 2<sup>nd</sup> option"
   ]
  },
  {
   "cell_type": "markdown",
   "metadata": {},
   "source": [
    "Alternatively, we could assign a random group as a treatment, and check to see if that we dont have a significance"
   ]
  }
 ],
 "metadata": {
  "bento_stylesheets": {
   "bento/extensions/flow/main.css": true,
   "bento/extensions/kernel_selector/main.css": true,
   "bento/extensions/kernel_ui/main.css": true,
   "bento/extensions/new_kernel/main.css": true,
   "bento/extensions/system_usage/main.css": true,
   "bento/extensions/theme/main.css": true
  },
  "disseminate_notebook_id": {
   "notebook_id": "1563561567140344"
  },
  "disseminate_notebook_info": {
   "data_retention_policy": "default",
   "description": "An example notebook in python for the Diff in Diff methodology",
   "hide_code": false,
   "no_uii": true,
   "notebook_number": "190148",
   "others_can_edit": false,
   "revision_id": 679332882878229,
   "tags": "python, Tutorial, Diff in Diff",
   "title": "Diff_Diff_example"
  },
  "kernelspec": {
   "display_name": "Python 3",
   "language": "python",
   "name": "bento_kernel_default"
  },
  "language_info": {
   "codemirror_mode": {
    "name": "ipython",
    "version": 3
   },
   "file_extension": ".py",
   "mimetype": "text/x-python",
   "name": "python",
   "nbconvert_exporter": "python",
   "pygments_lexer": "ipython3",
   "version": "3.7.5+"
  }
 },
 "nbformat": 4,
 "nbformat_minor": 2
}
